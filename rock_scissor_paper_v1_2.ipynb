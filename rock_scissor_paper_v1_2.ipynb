{
  "nbformat": 4,
  "nbformat_minor": 0,
  "metadata": {
    "colab": {
      "name": "rock_scissor_paper_v1.2",
      "provenance": [],
      "collapsed_sections": [],
      "mount_file_id": "12ctoy92L02lFdxY9Z9CU-hTEt3D0fWQ-",
      "authorship_tag": "ABX9TyNN9x0xEucUUZjhagMhi0zQ"
    },
    "kernelspec": {
      "name": "python3",
      "display_name": "Python 3"
    },
    "language_info": {
      "name": "python"
    },
    "accelerator": "TPU"
  },
  "cells": [
    {
      "cell_type": "markdown",
      "metadata": {
        "id": "uDygYgWI3o1R"
      },
      "source": [
        "#[가위바위보 분류기](https://github.com/Raziel-JKM/Practice/tree/main/ai/EX-1)"
      ]
    },
    {
      "cell_type": "code",
      "metadata": {
        "id": "Gr2r5YRC6ptK"
      },
      "source": [
        "#이미지 사이즈 변경을 위해 PIL 라이브러리를 사용\n",
        "from PIL import Image\n",
        "import os, glob"
      ],
      "execution_count": 11,
      "outputs": []
    },
    {
      "cell_type": "code",
      "metadata": {
        "id": "xgr6qGMfQCPp"
      },
      "source": [
        "#다른 환경 동일한  결론을 도출하기 위해 랜덤 시드 고정\n",
        "import os\n",
        "SEED = 42 \n",
        "os.environ['PYTHONHASHSEED'] = str(SEED) \n",
        "os.environ['TF_DETERMINISTIC_OPS'] = '1' \n",
        "import random \n",
        "random.seed(SEED) \n",
        "import tensorflow as tf \n",
        "import numpy as np \n",
        "tf.random.set_seed(SEED) \n",
        "np.random.seed(SEED)"
      ],
      "execution_count": 12,
      "outputs": []
    },
    {
      "cell_type": "markdown",
      "metadata": {
        "id": "eb1ITVbqgcJ_"
      },
      "source": [
        "#이미지 사이즈 변경"
      ]
    },
    {
      "cell_type": "code",
      "metadata": {
        "id": "AyrgOiW4Z7oz"
      },
      "source": [
        "#이미지의 크기가 28x28  변경\n",
        "import os\n",
        "\n",
        "def resize_images(img_path):\n",
        "\timages=glob.glob(img_path + \"/*.jpg\")  \n",
        "    \n",
        "\tprint(len(images), \" images to be resized.\")\n",
        "\n",
        "    # 파일마다 모두 28x28 사이즈로 바꾸어 저장합니다.\n",
        "\ttarget_size=(28,28)\n",
        "\tfor img in images:\n",
        "\t\told_img=Image.open(img)\n",
        "\t\tnew_img=old_img.resize(target_size,Image.ANTIALIAS) \n",
        "\t\tnew_img.save(img, \"JPEG\")\n",
        "    #ANTIALIAS는, anti-aliasing의 줄임말로, 높은 해상도의 신호를 낮은 해상도에서 나타낼 때 생기는 계단 현상(깨진 패턴)을 최소화\n",
        "\tprint(len(images), \" images resized.\")"
      ],
      "execution_count": 13,
      "outputs": []
    },
    {
      "cell_type": "markdown",
      "metadata": {
        "id": "T2qQRfD0Tkfc"
      },
      "source": [
        "- Train 이미지 사이즈 변경"
      ]
    },
    {
      "cell_type": "code",
      "metadata": {
        "colab": {
          "base_uri": "https://localhost:8080/"
        },
        "id": "LmHCBjhX7d5C",
        "outputId": "e6205d36-e1f4-42e7-ff10-cd065066f2e2"
      },
      "source": [
        "# 가위 이미지가 저장된 디렉토리 아래의 모든 jpg 파일을 읽어들여서\n",
        "image_dir_path1 = \"/content/drive/MyDrive/Data/train/scissor\"\n",
        "resize_images(image_dir_path1)\n",
        "\n",
        "print(\"가위 이미지 resize 완료!\")\n",
        "\n",
        "# 바위 이미지가 저장된 디렉토리 아래의 모든 jpg 파일을 읽어들여서\n",
        "image_dir_path2 = \"/content/drive/MyDrive/Data/train/rock\"\n",
        "resize_images(image_dir_path2)\n",
        "\n",
        "print(\"바위 이미지 resize 완료!\")\n",
        "\n",
        "# 보 이미지가 저장된 디렉토리 아래의 모든 jpg 파일을 읽어들여서\n",
        "image_dir_path3 = \"/content/drive/MyDrive/Data/train/paper\"\n",
        "resize_images(image_dir_path3)\n",
        "\n",
        "print(\"보 이미지 resize 완료!\")"
      ],
      "execution_count": 14,
      "outputs": [
        {
          "output_type": "stream",
          "name": "stdout",
          "text": [
            "400  images to be resized.\n",
            "400  images resized.\n",
            "가위 이미지 resize 완료!\n",
            "400  images to be resized.\n",
            "400  images resized.\n",
            "바위 이미지 resize 완료!\n",
            "400  images to be resized.\n",
            "400  images resized.\n",
            "보 이미지 resize 완료!\n"
          ]
        }
      ]
    },
    {
      "cell_type": "markdown",
      "metadata": {
        "id": "2hVmJ8e0TpcG"
      },
      "source": [
        "- Train set 가위 바위 보 라벨링"
      ]
    },
    {
      "cell_type": "code",
      "metadata": {
        "id": "zKKtBXxCDlzm"
      },
      "source": [
        "#가위바위보의 경우 3개의 클래스 즉, 가위: 0, 바위: 1, 보: 2 로 라벨링\n",
        "import numpy as np\n",
        "\n",
        "def load_data_train(img_path, number_of_data=1200):  # 가위바위보 이미지 개수 총합에 주의\n",
        "    # 가위 : 0, 바위 : 1, 보 : 2\n",
        "    img_size=28\n",
        "    color=3\n",
        "    #이미지 데이터와 라벨(가위 : 0, 바위 : 1, 보 : 2) 데이터를 담을 행렬(matrix) 영역을 생성\n",
        "    imgs=np.zeros(number_of_data*img_size*img_size*color,dtype=np.int32).reshape(number_of_data,img_size,img_size,color)\n",
        "    labels=np.zeros(number_of_data,dtype=np.int32)\n",
        "\n",
        "    idx=0\n",
        "    for file in glob.iglob(img_path+'/scissor/*.jpg'):\n",
        "        img = np.array(Image.open(file),dtype=np.int32)\n",
        "        imgs[idx,:,:,:]=img    # 데이터 영역에 이미지 행렬을 복사\n",
        "        labels[idx]=0   # 가위 : 0\n",
        "        idx=idx+1\n",
        "\n",
        "    for file in glob.iglob(img_path+'/rock/*.jpg'):\n",
        "        img = np.array(Image.open(file),dtype=np.int32)\n",
        "        imgs[idx,:,:,:]=img    # 데이터 영역에 이미지 행렬을 복사\n",
        "        labels[idx]=1   # 바위 : 1\n",
        "        idx=idx+1  \n",
        "    \n",
        "    for file in glob.iglob(img_path+'/paper/*.jpg'):\n",
        "        img = np.array(Image.open(file),dtype=np.int32)\n",
        "        imgs[idx,:,:,:]=img    # 데이터 영역에 이미지 행렬을 복사\n",
        "        labels[idx]=2   # 보 : 2\n",
        "        idx=idx+1\n",
        "        \n",
        "    print(\"학습데이터(x_train)의 이미지 개수는\", idx,\"입니다.\")\n",
        "    return imgs, labels\n"
      ],
      "execution_count": 15,
      "outputs": []
    },
    {
      "cell_type": "markdown",
      "metadata": {
        "id": "U52rlyRMTySZ"
      },
      "source": [
        "- Test set 가위 바위 보 라벨링"
      ]
    },
    {
      "cell_type": "code",
      "metadata": {
        "colab": {
          "base_uri": "https://localhost:8080/"
        },
        "id": "jmHZi9P-7pya",
        "outputId": "9939da2d-ea29-4cef-ec61-7424e78ac8f7"
      },
      "source": [
        "image_dir_path = \"/content/drive/MyDrive/Data/train/\"\n",
        "(x_train, y_train)=load_data_train(image_dir_path)\n",
        "x_train_norm = x_train / 255.0\n",
        "print(\"x_train shape: {}\".format(x_train.shape))\n",
        "print(\"y_train shape: {}\".format(y_train.shape))"
      ],
      "execution_count": 16,
      "outputs": [
        {
          "output_type": "stream",
          "name": "stdout",
          "text": [
            "학습데이터(x_train)의 이미지 개수는 1200 입니다.\n",
            "x_train shape: (1200, 28, 28, 3)\n",
            "y_train shape: (1200,)\n"
          ]
        }
      ]
    },
    {
      "cell_type": "code",
      "metadata": {
        "id": "zosbRz_ejC_q",
        "colab": {
          "base_uri": "https://localhost:8080/",
          "height": 263
        },
        "outputId": "9e3d4286-c2fe-4d30-91c9-a4031e6aac51"
      },
      "source": [
        "#라벨링 잘되었는지 샘플 확인\n",
        "import matplotlib.pyplot as plt\n",
        "%matplotlib inline\n",
        "sample_train = [x_train[0], x_train[400], x_train[900]]\n",
        "sample_images = sample_train\n",
        "\n",
        "plt.figure(figsize=(8,8))\n",
        "plt.suptitle(\"Dataset\", fontsize=20)\n",
        "\n",
        "for i, image in enumerate(sample_images):\n",
        "    plt.subplot(2, 3, i+1)\n",
        "    plt.imshow(image)\n",
        "    plt.title('Train' if i < 3 else 'Test', fontsize=15)\n",
        "    plt.axis('off')   \n",
        "plt.tight_layout()   "
      ],
      "execution_count": 18,
      "outputs": [
        {
          "output_type": "display_data",
          "data": {
            "image/png": "[encoded data removed]",
            "text/plain": [
              "<Figure size 576x576 with 3 Axes>"
            ]
          },
          "metadata": {
            "needs_background": "light"
          }
        }
      ]
    },
    {
      "cell_type": "markdown",
      "metadata": {
        "id": "PRRmOXe7jmY5"
      },
      "source": [
        "- Train Test 각각 범위 별로 잘 라벨링 된것을 확인 할 수 있다."
      ]
    },
    {
      "cell_type": "code",
      "metadata": {
        "colab": {
          "base_uri": "https://localhost:8080/"
        },
        "id": "QoFeZXxL8lAd",
        "outputId": "e821da3f-db0f-475a-e51c-5cc91854d4b5"
      },
      "source": [
        "print(x_train.shape)"
      ],
      "execution_count": 19,
      "outputs": [
        {
          "output_type": "stream",
          "name": "stdout",
          "text": [
            "(1200, 28, 28, 3)\n"
          ]
        }
      ]
    },
    {
      "cell_type": "code",
      "metadata": {
        "id": "AoXOiXQWpSrv",
        "colab": {
          "base_uri": "https://localhost:8080/"
        },
        "outputId": "58ff6cfe-a5d3-44c9-c4b0-bfe1497d20cd"
      },
      "source": [
        "from sklearn.model_selection import train_test_split\n",
        "# train, validation data 무작위로 섞어서 나누기\n",
        "x_train, x_val, y_train, y_val = train_test_split(x_train_norm, y_train, test_size=0.2, shuffle=True, random_state=12)\n",
        "\n",
        "# train, validation data의 사이즈 확인\n",
        "print(x_train.shape, x_val.shape, y_train.shape, y_val.shape)"
      ],
      "execution_count": 20,
      "outputs": [
        {
          "output_type": "stream",
          "name": "stdout",
          "text": [
            "(960, 28, 28, 3) (240, 28, 28, 3) (960,) (240,)\n"
          ]
        }
      ]
    },
    {
      "cell_type": "markdown",
      "metadata": {
        "id": "bsuu2lIu71k5"
      },
      "source": [
        "#네트워크 설계"
      ]
    },
    {
      "cell_type": "code",
      "metadata": {
        "id": "Bi_4hl9VqL21",
        "colab": {
          "base_uri": "https://localhost:8080/"
        },
        "outputId": "1e118617-6282-48bf-d49e-9e99554c9caf"
      },
      "source": [
        "import tensorflow as tf\n",
        "from tensorflow import keras\n",
        "from keras import models\n",
        "from keras.models import Sequential\n",
        "from keras.layers import Dense, Dropout, Flatten, Conv2D, BatchNormalization\n",
        "\n",
        "n_channel_1=32\n",
        "n_channel_2=64\n",
        "n_dense=128\n",
        "    \n",
        "model=Sequential()\n",
        "model.add(Conv2D(n_channel_1, (3,3), activation='relu', input_shape=(28,28,3)))\n",
        "model.add(BatchNormalization())\n",
        "model.add(Conv2D(n_channel_1, kernel_size = 3, activation='relu'))\n",
        "model.add(BatchNormalization())\n",
        "model.add(Conv2D(n_channel_1, kernel_size = 5, strides=2, padding='same', activation='relu'))\n",
        "model.add(BatchNormalization())\n",
        "model.add(Dropout(0.3))\n",
        "\n",
        "model.add(Conv2D(n_channel_2, kernel_size = 3, activation='relu'))\n",
        "model.add(BatchNormalization())\n",
        "model.add(Conv2D(n_channel_2, kernel_size = 3, activation='relu'))\n",
        "model.add(BatchNormalization())\n",
        "model.add(Conv2D(n_channel_2, kernel_size = 5, strides=2, padding='same', activation='relu'))\n",
        "model.add(BatchNormalization())\n",
        "model.add(Dropout(0.3))\n",
        "\n",
        "model.add(Conv2D(n_dense, kernel_size = 4, activation='relu'))\n",
        "model.add(BatchNormalization())\n",
        "model.add(Flatten())\n",
        "model.add(Dropout(0.4))\n",
        "model.add(Dense(3, activation='softmax'))\n",
        "\n",
        "\n",
        "\n",
        "model.compile(optimizer=tf.keras.optimizers.Adam(), \n",
        "              loss='sparse_categorical_crossentropy', \n",
        "              metrics=[tf.keras.metrics.SparseCategoricalAccuracy()])\n",
        "model.summary()"
      ],
      "execution_count": 21,
      "outputs": [
        {
          "output_type": "stream",
          "name": "stdout",
          "text": [
            "Model: \"sequential\"\n",
            "_________________________________________________________________\n",
            "Layer (type)                 Output Shape              Param #   \n",
            "=================================================================\n",
            "conv2d (Conv2D)              (None, 26, 26, 32)        896       \n",
            "_________________________________________________________________\n",
            "batch_normalization (BatchNo (None, 26, 26, 32)        128       \n",
            "_________________________________________________________________\n",
            "conv2d_1 (Conv2D)            (None, 24, 24, 32)        9248      \n",
            "_________________________________________________________________\n",
            "batch_normalization_1 (Batch (None, 24, 24, 32)        128       \n",
            "_________________________________________________________________\n",
            "conv2d_2 (Conv2D)            (None, 12, 12, 32)        25632     \n",
            "_________________________________________________________________\n",
            "batch_normalization_2 (Batch (None, 12, 12, 32)        128       \n",
            "_________________________________________________________________\n",
            "dropout (Dropout)            (None, 12, 12, 32)        0         \n",
            "_________________________________________________________________\n",
            "conv2d_3 (Conv2D)            (None, 10, 10, 64)        18496     \n",
            "_________________________________________________________________\n",
            "batch_normalization_3 (Batch (None, 10, 10, 64)        256       \n",
            "_________________________________________________________________\n",
            "conv2d_4 (Conv2D)            (None, 8, 8, 64)          36928     \n",
            "_________________________________________________________________\n",
            "batch_normalization_4 (Batch (None, 8, 8, 64)          256       \n",
            "_________________________________________________________________\n",
            "conv2d_5 (Conv2D)            (None, 4, 4, 64)          102464    \n",
            "_________________________________________________________________\n",
            "batch_normalization_5 (Batch (None, 4, 4, 64)          256       \n",
            "_________________________________________________________________\n",
            "dropout_1 (Dropout)          (None, 4, 4, 64)          0         \n",
            "_________________________________________________________________\n",
            "conv2d_6 (Conv2D)            (None, 1, 1, 128)         131200    \n",
            "_________________________________________________________________\n",
            "batch_normalization_6 (Batch (None, 1, 1, 128)         512       \n",
            "_________________________________________________________________\n",
            "flatten (Flatten)            (None, 128)               0         \n",
            "_________________________________________________________________\n",
            "dropout_2 (Dropout)          (None, 128)               0         \n",
            "_________________________________________________________________\n",
            "dense (Dense)                (None, 3)                 387       \n",
            "=================================================================\n",
            "Total params: 326,915\n",
            "Trainable params: 326,083\n",
            "Non-trainable params: 832\n",
            "_________________________________________________________________\n"
          ]
        }
      ]
    },
    {
      "cell_type": "markdown",
      "metadata": {
        "id": "p7hjxqzTmdVv"
      },
      "source": [
        "- [sparse categorical crossentropy](https://bskyvision.com/822) : sparse categorical crossentropy 멀티클래스 분류에 사용되는 손실함수, 라벨이 0, 1, 2, 3, 4와 같이 정수의 형태로 제공될 때 사용한다."
      ]
    },
    {
      "cell_type": "code",
      "metadata": {
        "id": "4fT8E_rsptfY",
        "colab": {
          "base_uri": "https://localhost:8080/"
        },
        "outputId": "2252cff2-e4f6-4fc6-ae9d-105196275245"
      },
      "source": [
        "result = model.fit(x_train, y_train, epochs=20, validation_data=(x_val, y_val))"
      ],
      "execution_count": 22,
      "outputs": [
        {
          "output_type": "stream",
          "name": "stdout",
          "text": [
            "Epoch 1/20\n",
            "30/30 [==============================] - 7s 189ms/step - loss: 0.7080 - sparse_categorical_accuracy: 0.7417 - val_loss: 1.0975 - val_sparse_categorical_accuracy: 0.3500\n",
            "Epoch 2/20\n",
            "30/30 [==============================] - 5s 180ms/step - loss: 0.2200 - sparse_categorical_accuracy: 0.9240 - val_loss: 1.3471 - val_sparse_categorical_accuracy: 0.3417\n",
            "Epoch 3/20\n",
            "30/30 [==============================] - 5s 179ms/step - loss: 0.0851 - sparse_categorical_accuracy: 0.9677 - val_loss: 2.6817 - val_sparse_categorical_accuracy: 0.3417\n",
            "Epoch 4/20\n",
            "30/30 [==============================] - 5s 177ms/step - loss: 0.0496 - sparse_categorical_accuracy: 0.9823 - val_loss: 2.9553 - val_sparse_categorical_accuracy: 0.3417\n",
            "Epoch 5/20\n",
            "30/30 [==============================] - 5s 178ms/step - loss: 0.0423 - sparse_categorical_accuracy: 0.9865 - val_loss: 2.8706 - val_sparse_categorical_accuracy: 0.3417\n",
            "Epoch 6/20\n",
            "30/30 [==============================] - 5s 182ms/step - loss: 0.0285 - sparse_categorical_accuracy: 0.9896 - val_loss: 1.8154 - val_sparse_categorical_accuracy: 0.3417\n",
            "Epoch 7/20\n",
            "30/30 [==============================] - 5s 177ms/step - loss: 0.0233 - sparse_categorical_accuracy: 0.9917 - val_loss: 1.1578 - val_sparse_categorical_accuracy: 0.3917\n",
            "Epoch 8/20\n",
            "30/30 [==============================] - 5s 174ms/step - loss: 0.0109 - sparse_categorical_accuracy: 0.9969 - val_loss: 1.5483 - val_sparse_categorical_accuracy: 0.4125\n",
            "Epoch 9/20\n",
            "30/30 [==============================] - 5s 180ms/step - loss: 0.0055 - sparse_categorical_accuracy: 0.9990 - val_loss: 1.7106 - val_sparse_categorical_accuracy: 0.4667\n",
            "Epoch 10/20\n",
            "30/30 [==============================] - 5s 182ms/step - loss: 0.0039 - sparse_categorical_accuracy: 1.0000 - val_loss: 2.4499 - val_sparse_categorical_accuracy: 0.4250\n",
            "Epoch 11/20\n",
            "30/30 [==============================] - 5s 175ms/step - loss: 0.0068 - sparse_categorical_accuracy: 0.9969 - val_loss: 2.6340 - val_sparse_categorical_accuracy: 0.3958\n",
            "Epoch 12/20\n",
            "30/30 [==============================] - 5s 182ms/step - loss: 0.0082 - sparse_categorical_accuracy: 0.9969 - val_loss: 1.9431 - val_sparse_categorical_accuracy: 0.4542\n",
            "Epoch 13/20\n",
            "30/30 [==============================] - 6s 184ms/step - loss: 0.0052 - sparse_categorical_accuracy: 0.9979 - val_loss: 1.1520 - val_sparse_categorical_accuracy: 0.5958\n",
            "Epoch 14/20\n",
            "30/30 [==============================] - 5s 183ms/step - loss: 0.0071 - sparse_categorical_accuracy: 0.9958 - val_loss: 0.8300 - val_sparse_categorical_accuracy: 0.6833\n",
            "Epoch 15/20\n",
            "30/30 [==============================] - 5s 173ms/step - loss: 0.0058 - sparse_categorical_accuracy: 0.9990 - val_loss: 1.6779 - val_sparse_categorical_accuracy: 0.5667\n",
            "Epoch 16/20\n",
            "30/30 [==============================] - 5s 174ms/step - loss: 0.0017 - sparse_categorical_accuracy: 1.0000 - val_loss: 1.0949 - val_sparse_categorical_accuracy: 0.6833\n",
            "Epoch 17/20\n",
            "30/30 [==============================] - 5s 172ms/step - loss: 0.0097 - sparse_categorical_accuracy: 0.9969 - val_loss: 2.0485 - val_sparse_categorical_accuracy: 0.4958\n",
            "Epoch 18/20\n",
            "30/30 [==============================] - 5s 179ms/step - loss: 0.0109 - sparse_categorical_accuracy: 0.9969 - val_loss: 1.5908 - val_sparse_categorical_accuracy: 0.5792\n",
            "Epoch 19/20\n",
            "30/30 [==============================] - 5s 177ms/step - loss: 0.0071 - sparse_categorical_accuracy: 0.9990 - val_loss: 0.2627 - val_sparse_categorical_accuracy: 0.9083\n",
            "Epoch 20/20\n",
            "30/30 [==============================] - 5s 167ms/step - loss: 0.0101 - sparse_categorical_accuracy: 0.9969 - val_loss: 1.5535 - val_sparse_categorical_accuracy: 0.6708\n"
          ]
        }
      ]
    },
    {
      "cell_type": "code",
      "metadata": {
        "id": "T8-pvYC5rBXw",
        "colab": {
          "base_uri": "https://localhost:8080/",
          "height": 448
        },
        "outputId": "c7f718d1-c0cb-4df3-af2f-b44b3015142f"
      },
      "source": [
        "# epochs에 따른 accuracy, loss의 변화를 그래프로 시각화\n",
        "plt.figure(figsize=(10.5, 6.5))\n",
        "\n",
        "plt.plot(result.history['sparse_categorical_accuracy'])\n",
        "plt.plot(result.history['val_sparse_categorical_accuracy'])\n",
        "plt.plot(result.history['loss'])\n",
        "plt.plot(result.history['val_loss'])\n",
        "\n",
        "plt.title('Model Performance')\n",
        "plt.xlabel('Epochs')\n",
        "plt.ylabel('Accuracy & Loss')\n",
        "plt.legend(['sparse_categorical_accurac', 'val_sparse_categorical_accuracy', 'train_loss', 'val_loss'], loc='center right')"
      ],
      "execution_count": 23,
      "outputs": [
        {
          "output_type": "execute_result",
          "data": {
            "text/plain": [
              "<matplotlib.legend.Legend at 0x7fc291c1f790>"
            ]
          },
          "metadata": {},
          "execution_count": 23
        },
        {
          "output_type": "display_data",
          "data": {
            "image/png": "[encoded data removed]",
            "text/plain": [
              "<Figure size 756x468 with 1 Axes>"
            ]
          },
          "metadata": {
            "needs_background": "light"
          }
        }
      ]
    },
    {
      "cell_type": "markdown",
      "metadata": {
        "id": "dxAh5h5Im7_1"
      },
      "source": [
        "- 성능이 잘 나오지 않아서 이미지제너레이터 까지 (초반)에 시도 하였지만, (후반)에 파라미터, 레이어 조절을 통해서 성능이 잘나와주었다.\n",
        "\n",
        "- val_loss값(붉은색)이 급격하게 하락하였고, val_sparse_categorical_accuracy(주황)이 급격하게 상승하였다.\n",
        "\n",
        "- 그냥 categorical crossentropy보다 sparse categorical crossentropy가 성능향상에 크게 기여한것같다."
      ]
    },
    {
      "cell_type": "markdown",
      "metadata": {
        "id": "J3ai_L56n5Wg"
      },
      "source": [
        "# ImageDataGenerator 적용 성능향상 시도"
      ]
    },
    {
      "cell_type": "code",
      "metadata": {
        "colab": {
          "base_uri": "https://localhost:8080/"
        },
        "id": "plYeF-ZGTkGA",
        "outputId": "a82e2090-b6d7-4cb8-c974-f6302f1965fd"
      },
      "source": [
        "#이미지 제너레이터\n",
        "import numpy as np\n",
        "import tensorflow as tf\n",
        "\n",
        "\n",
        "from keras.preprocessing.image import ImageDataGenerator\n",
        "\n",
        "train_datagen = ImageDataGenerator(\n",
        "        rescale = 1./255,\n",
        "        validation_split=0.2,\n",
        "        rotation_range=40,\n",
        "        width_shift_range=0.2,\n",
        "        height_shift_range=0.2,\n",
        "        shear_range=0.2,\n",
        "        zoom_range=0.2,\n",
        "        horizontal_flip=True,\n",
        "        fill_mode='nearest')\n",
        "\n",
        "train_gen = train_datagen.flow_from_directory('/content/drive/MyDrive/Data/train',\n",
        "                                                 target_size = (28, 28),\n",
        "                                                 batch_size = 32,\n",
        "                                                 class_mode = 'categorical',subset='training')\n",
        "val_gen  = train_datagen.flow_from_directory('/content/drive/MyDrive/Data/train',\n",
        "                                                 target_size = (28 , 28),\n",
        "                                                 batch_size = 32,\n",
        "                                                 class_mode = 'categorical',subset='validation')"
      ],
      "execution_count": 24,
      "outputs": [
        {
          "output_type": "stream",
          "name": "stdout",
          "text": [
            "Found 960 images belonging to 3 classes.\n",
            "Found 240 images belonging to 3 classes.\n"
          ]
        }
      ]
    },
    {
      "cell_type": "code",
      "metadata": {
        "colab": {
          "base_uri": "https://localhost:8080/"
        },
        "id": "Bdcs0qJcY4_K",
        "outputId": "6f139ae6-fcb4-4aac-b5f2-adb9408efafa"
      },
      "source": [
        "import tensorflow as tf\n",
        "\n",
        "model_IG = tf.keras.models.Sequential()\n",
        "\n",
        "\n",
        "model_IG.add(tf.keras.layers.Conv2D(filters=32, kernel_size=3, activation='relu', input_shape=[28, 28, 3]))\n",
        "\n",
        "model_IG.add(tf.keras.layers.MaxPool2D(pool_size=2, strides=2))\n",
        "\n",
        "model_IG.add(tf.keras.layers.Conv2D(filters=32, kernel_size=3, activation='relu'))\n",
        "model_IG.add(tf.keras.layers.MaxPool2D(pool_size=2, strides=2))\n",
        "model_IG.add(tf.keras.layers.Dropout(0.3))\n",
        "model_IG.add(tf.keras.layers.Conv2D(filters=32, kernel_size=3, activation='relu'))\n",
        "model_IG.add(tf.keras.layers.MaxPool2D(pool_size=2, strides=2))\n",
        "model_IG.add(tf.keras.layers.Dropout(0.3))\n",
        "\n",
        "model_IG.add(tf.keras.layers.Flatten())\n",
        "\n",
        "model_IG.add(tf.keras.layers.Dense(units=128, activation='relu'))\n",
        "model_IG.add(tf.keras.layers.Dense(units=64, activation='relu'))\n",
        "\n",
        "model_IG.add(tf.keras.layers.Dense(units=3, activation='softmax'))\n",
        "\n",
        "\n",
        "model_IG.compile(optimizer = 'adam', \n",
        "            loss = 'categorical_crossentropy', \n",
        "            metrics = ['accuracy'])\n",
        "model_IG.summary()"
      ],
      "execution_count": 25,
      "outputs": [
        {
          "output_type": "stream",
          "name": "stdout",
          "text": [
            "Model: \"sequential_1\"\n",
            "_________________________________________________________________\n",
            "Layer (type)                 Output Shape              Param #   \n",
            "=================================================================\n",
            "conv2d_7 (Conv2D)            (None, 26, 26, 32)        896       \n",
            "_________________________________________________________________\n",
            "max_pooling2d (MaxPooling2D) (None, 13, 13, 32)        0         \n",
            "_________________________________________________________________\n",
            "conv2d_8 (Conv2D)            (None, 11, 11, 32)        9248      \n",
            "_________________________________________________________________\n",
            "max_pooling2d_1 (MaxPooling2 (None, 5, 5, 32)          0         \n",
            "_________________________________________________________________\n",
            "dropout_3 (Dropout)          (None, 5, 5, 32)          0         \n",
            "_________________________________________________________________\n",
            "conv2d_9 (Conv2D)            (None, 3, 3, 32)          9248      \n",
            "_________________________________________________________________\n",
            "max_pooling2d_2 (MaxPooling2 (None, 1, 1, 32)          0         \n",
            "_________________________________________________________________\n",
            "dropout_4 (Dropout)          (None, 1, 1, 32)          0         \n",
            "_________________________________________________________________\n",
            "flatten_1 (Flatten)          (None, 32)                0         \n",
            "_________________________________________________________________\n",
            "dense_1 (Dense)              (None, 128)               4224      \n",
            "_________________________________________________________________\n",
            "dense_2 (Dense)              (None, 64)                8256      \n",
            "_________________________________________________________________\n",
            "dense_3 (Dense)              (None, 3)                 195       \n",
            "=================================================================\n",
            "Total params: 32,067\n",
            "Trainable params: 32,067\n",
            "Non-trainable params: 0\n",
            "_________________________________________________________________\n"
          ]
        }
      ]
    },
    {
      "cell_type": "code",
      "metadata": {
        "id": "Op2n45-KZAnq",
        "colab": {
          "base_uri": "https://localhost:8080/"
        },
        "outputId": "2e67963e-e866-470e-9fe1-202645e29296"
      },
      "source": [
        "result_IG  = model_IG.fit(x = train_gen, validation_data = val_gen, epochs = 30)   "
      ],
      "execution_count": 26,
      "outputs": [
        {
          "output_type": "stream",
          "name": "stdout",
          "text": [
            "Epoch 1/30\n",
            "30/30 [==============================] - 4s 116ms/step - loss: 1.1016 - accuracy: 0.3417 - val_loss: 1.0993 - val_accuracy: 0.3875\n",
            "Epoch 2/30\n",
            "30/30 [==============================] - 4s 124ms/step - loss: 1.1023 - accuracy: 0.3250 - val_loss: 1.0982 - val_accuracy: 0.3167\n",
            "Epoch 3/30\n",
            "30/30 [==============================] - 4s 124ms/step - loss: 1.0989 - accuracy: 0.3365 - val_loss: 1.0975 - val_accuracy: 0.3375\n",
            "Epoch 4/30\n",
            "30/30 [==============================] - 3s 112ms/step - loss: 1.0988 - accuracy: 0.3385 - val_loss: 1.0954 - val_accuracy: 0.4167\n",
            "Epoch 5/30\n",
            "30/30 [==============================] - 3s 116ms/step - loss: 1.0989 - accuracy: 0.3458 - val_loss: 1.0976 - val_accuracy: 0.3458\n",
            "Epoch 6/30\n",
            "30/30 [==============================] - 4s 128ms/step - loss: 1.0973 - accuracy: 0.3646 - val_loss: 1.0945 - val_accuracy: 0.4375\n",
            "Epoch 7/30\n",
            "30/30 [==============================] - 4s 136ms/step - loss: 1.0977 - accuracy: 0.3396 - val_loss: 1.0932 - val_accuracy: 0.3583\n",
            "Epoch 8/30\n",
            "30/30 [==============================] - 4s 133ms/step - loss: 1.0873 - accuracy: 0.4135 - val_loss: 1.0737 - val_accuracy: 0.5083\n",
            "Epoch 9/30\n",
            "30/30 [==============================] - 4s 120ms/step - loss: 1.0322 - accuracy: 0.4583 - val_loss: 0.9509 - val_accuracy: 0.4917\n",
            "Epoch 10/30\n",
            "30/30 [==============================] - 4s 148ms/step - loss: 0.9767 - accuracy: 0.5104 - val_loss: 0.9340 - val_accuracy: 0.5208\n",
            "Epoch 11/30\n",
            "30/30 [==============================] - 4s 135ms/step - loss: 0.9525 - accuracy: 0.5146 - val_loss: 0.9030 - val_accuracy: 0.5875\n",
            "Epoch 12/30\n",
            "30/30 [==============================] - 4s 134ms/step - loss: 0.8944 - accuracy: 0.5615 - val_loss: 0.7505 - val_accuracy: 0.7042\n",
            "Epoch 13/30\n",
            "30/30 [==============================] - 4s 144ms/step - loss: 0.7981 - accuracy: 0.6229 - val_loss: 0.8845 - val_accuracy: 0.4792\n",
            "Epoch 14/30\n",
            "30/30 [==============================] - 4s 122ms/step - loss: 0.8262 - accuracy: 0.6240 - val_loss: 0.7428 - val_accuracy: 0.6750\n",
            "Epoch 15/30\n",
            "30/30 [==============================] - 4s 119ms/step - loss: 0.7750 - accuracy: 0.6510 - val_loss: 0.5961 - val_accuracy: 0.7792\n",
            "Epoch 16/30\n",
            "30/30 [==============================] - 4s 123ms/step - loss: 0.7236 - accuracy: 0.6729 - val_loss: 0.5829 - val_accuracy: 0.7708\n",
            "Epoch 17/30\n",
            "30/30 [==============================] - 3s 114ms/step - loss: 0.6565 - accuracy: 0.7094 - val_loss: 0.5537 - val_accuracy: 0.7875\n",
            "Epoch 18/30\n",
            "30/30 [==============================] - 4s 123ms/step - loss: 0.6845 - accuracy: 0.6958 - val_loss: 0.5588 - val_accuracy: 0.8042\n",
            "Epoch 19/30\n",
            "30/30 [==============================] - 3s 114ms/step - loss: 0.6681 - accuracy: 0.7000 - val_loss: 0.5053 - val_accuracy: 0.8042\n",
            "Epoch 20/30\n",
            "30/30 [==============================] - 3s 114ms/step - loss: 0.6643 - accuracy: 0.7063 - val_loss: 0.4997 - val_accuracy: 0.8250\n",
            "Epoch 21/30\n",
            "30/30 [==============================] - 4s 118ms/step - loss: 0.6475 - accuracy: 0.7219 - val_loss: 0.4582 - val_accuracy: 0.8417\n",
            "Epoch 22/30\n",
            "30/30 [==============================] - 3s 109ms/step - loss: 0.6832 - accuracy: 0.6990 - val_loss: 0.5783 - val_accuracy: 0.7750\n",
            "Epoch 23/30\n",
            "30/30 [==============================] - 3s 112ms/step - loss: 0.5931 - accuracy: 0.7500 - val_loss: 0.5224 - val_accuracy: 0.7917\n",
            "Epoch 24/30\n",
            "30/30 [==============================] - 3s 110ms/step - loss: 0.5869 - accuracy: 0.7479 - val_loss: 0.4343 - val_accuracy: 0.8292\n",
            "Epoch 25/30\n",
            "30/30 [==============================] - 3s 112ms/step - loss: 0.5704 - accuracy: 0.7729 - val_loss: 0.5534 - val_accuracy: 0.8000\n",
            "Epoch 26/30\n",
            "30/30 [==============================] - 3s 114ms/step - loss: 0.6484 - accuracy: 0.7323 - val_loss: 0.4438 - val_accuracy: 0.8250\n",
            "Epoch 27/30\n",
            "30/30 [==============================] - 4s 121ms/step - loss: 0.6011 - accuracy: 0.7500 - val_loss: 0.4536 - val_accuracy: 0.8375\n",
            "Epoch 28/30\n",
            "30/30 [==============================] - 3s 108ms/step - loss: 0.5809 - accuracy: 0.7417 - val_loss: 0.3846 - val_accuracy: 0.8583\n",
            "Epoch 29/30\n",
            "30/30 [==============================] - 3s 115ms/step - loss: 0.5260 - accuracy: 0.7885 - val_loss: 0.4049 - val_accuracy: 0.8708\n",
            "Epoch 30/30\n",
            "30/30 [==============================] - 3s 116ms/step - loss: 0.5554 - accuracy: 0.7542 - val_loss: 0.4139 - val_accuracy: 0.8625\n"
          ]
        }
      ]
    },
    {
      "cell_type": "code",
      "metadata": {
        "id": "-Ywm7C2TllX9",
        "colab": {
          "base_uri": "https://localhost:8080/"
        },
        "outputId": "2870c59b-779d-448f-ec24-c72504acc506"
      },
      "source": [
        "history_IG = model_IG.history.history\n",
        "history_IG.keys()"
      ],
      "execution_count": 27,
      "outputs": [
        {
          "output_type": "execute_result",
          "data": {
            "text/plain": [
              "dict_keys(['loss', 'accuracy', 'val_loss', 'val_accuracy'])"
            ]
          },
          "metadata": {},
          "execution_count": 27
        }
      ]
    },
    {
      "cell_type": "code",
      "metadata": {
        "colab": {
          "base_uri": "https://localhost:8080/",
          "height": 448
        },
        "id": "wO77Lt9IuTjo",
        "outputId": "c45d9f65-c989-45be-b37e-c0a769f83b55"
      },
      "source": [
        "# epochs에 따른 accuracy, loss의 변화를 그래프로 시각화\n",
        "plt.figure(figsize=(10.5, 6.5))\n",
        "\n",
        "plt.plot(result_IG.history['accuracy'])\n",
        "plt.plot(result_IG.history['val_accuracy'])\n",
        "plt.plot(result_IG.history['loss'])\n",
        "plt.plot(result_IG.history['val_loss'])\n",
        "\n",
        "plt.title('Model Performance')\n",
        "plt.xlabel('Epochs')\n",
        "plt.ylabel('Accuracy & Loss')\n",
        "plt.legend(['sparse_categorical_accurac', 'val_sparse_categorical_accuracy', 'train_loss', 'val_loss'], loc='center right')"
      ],
      "execution_count": 28,
      "outputs": [
        {
          "output_type": "execute_result",
          "data": {
            "text/plain": [
              "<matplotlib.legend.Legend at 0x7fc2979bb650>"
            ]
          },
          "metadata": {},
          "execution_count": 28
        },
        {
          "output_type": "display_data",
          "data": {
            "image/png": "[encoded data removed]",
            "text/plain": [
              "<Figure size 756x468 with 1 Axes>"
            ]
          },
          "metadata": {
            "needs_background": "light"
          }
        }
      ]
    },
    {
      "cell_type": "markdown",
      "metadata": {
        "id": "hj5C_NyGwlVI"
      },
      "source": [
        "# 결론\n",
        " - val_accuracy와 val_loss가 파라미터만 조절한 모델보다 약간 적게 나왔지만, 에폭을 늘리면 더 잘나올 수 도 있을것으로 생각된다.\n",
        " - 훈련하는 그래프도 ImageDataGenerator적용 모델이 상대적으로 안정적이다\n",
        " - 결론적으로 데이터의 중요성을 알 수 있는 부분이다. 적은양의 데이터로 모델로만으로 성능을 올릴 수 있지만 한계가 보이고 훈련 그래프 또한 불안정하다.\n",
        " - 좋은 모델도 중요하지만 양질의 데이터도 중요하다! \n",
        " (여기서는 ImageDataGenerator가 데이터 증가 역할을 한다)\n",
        " \n",
        " # 추후 개선할 점 \n",
        " 여기서는 ImageDataGenerator라는 모듈 내부도 많은 기능이 있는것 같다.\n",
        " 다양한 파라미터 조정을 통해 좀 더 모델 훈련에 도움되는 방법을 찾아 봐야할 것같다."
      ]
    }
  ]
}