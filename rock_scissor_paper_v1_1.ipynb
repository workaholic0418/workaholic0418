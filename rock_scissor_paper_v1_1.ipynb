{
  "nbformat": 4,
  "nbformat_minor": 0,
  "metadata": {
    "colab": {
      "name": "rock_scissor_paper_v1.1.ipynb",
      "provenance": [],
      "collapsed_sections": [],
      "mount_file_id": "https://github.com/Raziel-JKM/Practice/blob/main/ai/EX-1/rock_scissor_paper_v1.ipynb",
      "authorship_tag": "ABX9TyPwrzdpuuyr1apMUZbthONi",
      "include_colab_link": true
    },
    "kernelspec": {
      "name": "python3",
      "display_name": "Python 3"
    },
    "language_info": {
      "name": "python"
    },
    "accelerator": "TPU"
  },
  "cells": [
    {
      "cell_type": "markdown",
      "metadata": {
        "id": "view-in-github",
        "colab_type": "text"
      },
      "source": [
        "<a href=\"https://colab.research.google.com/github/Raziel-JKM/Practice/blob/main/ai/EX-1/rock_scissor_paper_v1_1.ipynb\" target=\"_parent\"><img src=\"https://colab.research.google.com/assets/colab-badge.svg\" alt=\"Open In Colab\"/></a>"
      ]
    },
    {
      "cell_type": "markdown",
      "metadata": {
        "id": "uDygYgWI3o1R"
      },
      "source": [
        "#가위바위보 분류기"
      ]
    },
    {
      "cell_type": "code",
      "metadata": {
        "id": "Gr2r5YRC6ptK"
      },
      "source": [
        "from PIL import Image\n",
        "import os, glob"
      ],
      "execution_count": null,
      "outputs": []
    },
    {
      "cell_type": "code",
      "metadata": {
        "id": "xgr6qGMfQCPp"
      },
      "source": [
        "import os\n",
        "SEED = 42 \n",
        "os.environ['PYTHONHASHSEED'] = str(SEED) \n",
        "os.environ['TF_DETERMINISTIC_OPS'] = '1' \n",
        "import random \n",
        "random.seed(SEED) \n",
        "import tensorflow as tf \n",
        "import numpy as np \n",
        "tf.random.set_seed(SEED) \n",
        "np.random.seed(SEED)"
      ],
      "execution_count": null,
      "outputs": []
    },
    {
      "cell_type": "markdown",
      "metadata": {
        "id": "eb1ITVbqgcJ_"
      },
      "source": [
        "#1. 이미지 사이즈 변경"
      ]
    },
    {
      "cell_type": "code",
      "metadata": {
        "id": "AyrgOiW4Z7oz"
      },
      "source": [
        "#이미지의 크기가 28x28  변경\n",
        "import os\n",
        "\n",
        "def resize_images(img_path):\n",
        "\timages=glob.glob(img_path + \"/*.jpg\")  \n",
        "    \n",
        "\tprint(len(images), \" images to be resized.\")\n",
        "\n",
        "    # 파일마다 모두 28x28 사이즈로 바꾸어 저장합니다.\n",
        "\ttarget_size=(28,28)\n",
        "\tfor img in images:\n",
        "\t\told_img=Image.open(img)\n",
        "\t\tnew_img=old_img.resize(target_size,Image.ANTIALIAS)\n",
        "\t\tnew_img.save(img, \"JPEG\")\n",
        "    \n",
        "\tprint(len(images), \" images resized.\")"
      ],
      "execution_count": null,
      "outputs": []
    },
    {
      "cell_type": "markdown",
      "metadata": {
        "id": "T2qQRfD0Tkfc"
      },
      "source": [
        "- 트레인 이미지 사이즈 변경"
      ]
    },
    {
      "cell_type": "code",
      "metadata": {
        "colab": {
          "base_uri": "https://localhost:8080/"
        },
        "id": "LmHCBjhX7d5C",
        "outputId": "87c5358a-fb24-40fd-a25f-36eeb36c50ec"
      },
      "source": [
        "# 가위 이미지가 저장된 디렉토리 아래의 모든 jpg 파일을 읽어들여서\n",
        "image_dir_path1 = \"/content/drive/MyDrive/Data/train/scissor\"\n",
        "resize_images(image_dir_path1)\n",
        "\n",
        "print(\"가위 이미지 resize 완료!\")\n",
        "\n",
        "# 바위 이미지가 저장된 디렉토리 아래의 모든 jpg 파일을 읽어들여서\n",
        "image_dir_path2 = \"/content/drive/MyDrive/Data/train/rock\"\n",
        "resize_images(image_dir_path2)\n",
        "\n",
        "print(\"바위 이미지 resize 완료!\")\n",
        "\n",
        "# 보 이미지가 저장된 디렉토리 아래의 모든 jpg 파일을 읽어들여서\n",
        "image_dir_path3 = \"/content/drive/MyDrive/Data/train/paper\"\n",
        "resize_images(image_dir_path3)\n",
        "\n",
        "print(\"보 이미지 resize 완료!\")"
      ],
      "execution_count": null,
      "outputs": [
        {
          "output_type": "stream",
          "name": "stdout",
          "text": [
            "400  images to be resized.\n",
            "400  images resized.\n",
            "가위 이미지 resize 완료!\n",
            "400  images to be resized.\n",
            "400  images resized.\n",
            "바위 이미지 resize 완료!\n",
            "400  images to be resized.\n",
            "400  images resized.\n",
            "보 이미지 resize 완료!\n"
          ]
        }
      ]
    },
    {
      "cell_type": "markdown",
      "metadata": {
        "id": "qmcwTX4GghBz"
      },
      "source": [
        "- 데이터 셋  이미지 사이즈 변경"
      ]
    },
    {
      "cell_type": "code",
      "metadata": {
        "colab": {
          "base_uri": "https://localhost:8080/"
        },
        "id": "3CzLoZijPfNt",
        "outputId": "0483c23f-1282-464f-f5c7-d8e6ea9eb283"
      },
      "source": [
        "test_scissor_image_dir_path = \"/content/drive/MyDrive/Data/test/scissor\"\n",
        "resize_images(test_scissor_image_dir_path)   # 테스트 가위 이미지 resize\n",
        "\n",
        "test_rock_image_dir_path = \"/content/drive/MyDrive/Data/test/rock\"\n",
        "resize_images(test_rock_image_dir_path)   # 테스트 바위 이미지 resize\n",
        "\n",
        "test_paper_image_dir_path = \"/content/drive/MyDrive/Data/test/paper\"\n",
        "resize_images(test_paper_image_dir_path)   # 테스트 보 이미지 resize"
      ],
      "execution_count": null,
      "outputs": [
        {
          "output_type": "stream",
          "name": "stdout",
          "text": [
            "108  images to be resized.\n",
            "108  images resized.\n",
            "103  images to be resized.\n",
            "103  images resized.\n",
            "101  images to be resized.\n",
            "101  images resized.\n"
          ]
        }
      ]
    },
    {
      "cell_type": "markdown",
      "metadata": {
        "id": "2hVmJ8e0TpcG"
      },
      "source": [
        "- Train set 가위 바위 보 라벨링"
      ]
    },
    {
      "cell_type": "code",
      "metadata": {
        "id": "zKKtBXxCDlzm"
      },
      "source": [
        "#가위바위보의 경우 3개의 클래스 즉, 가위: 0, 바위: 1, 보: 2 로 라벨링\n",
        "import numpy as np\n",
        "\n",
        "def load_data_train(img_path, number_of_data=1200):  # 가위바위보 이미지 개수 총합에 주의\n",
        "    # 가위 : 0, 바위 : 1, 보 : 2\n",
        "    img_size=28\n",
        "    color=3\n",
        "    #이미지 데이터와 라벨(가위 : 0, 바위 : 1, 보 : 2) 데이터를 담을 행렬(matrix) 영역을 생성\n",
        "    imgs=np.zeros(number_of_data*img_size*img_size*color,dtype=np.int32).reshape(number_of_data,img_size,img_size,color)\n",
        "    labels=np.zeros(number_of_data,dtype=np.int32)\n",
        "\n",
        "    idx=0\n",
        "    for file in glob.iglob(img_path+'/scissor/*.jpg'):\n",
        "        img = np.array(Image.open(file),dtype=np.int32)\n",
        "        imgs[idx,:,:,:]=img    # 데이터 영역에 이미지 행렬을 복사\n",
        "        labels[idx]=0   # 가위 : 0\n",
        "        idx=idx+1\n",
        "\n",
        "    for file in glob.iglob(img_path+'/rock/*.jpg'):\n",
        "        img = np.array(Image.open(file),dtype=np.int32)\n",
        "        imgs[idx,:,:,:]=img    # 데이터 영역에 이미지 행렬을 복사\n",
        "        labels[idx]=1   # 바위 : 1\n",
        "        idx=idx+1  \n",
        "    \n",
        "    for file in glob.iglob(img_path+'/paper/*.jpg'):\n",
        "        img = np.array(Image.open(file),dtype=np.int32)\n",
        "        imgs[idx,:,:,:]=img    # 데이터 영역에 이미지 행렬을 복사\n",
        "        labels[idx]=2   # 보 : 2\n",
        "        idx=idx+1\n",
        "        \n",
        "    print(\"학습데이터(x_train)의 이미지 개수는\", idx,\"입니다.\")\n",
        "    return imgs, labels\n"
      ],
      "execution_count": null,
      "outputs": []
    },
    {
      "cell_type": "markdown",
      "metadata": {
        "id": "U52rlyRMTySZ"
      },
      "source": [
        "- Test set 가위 바위 보 라벨링"
      ]
    },
    {
      "cell_type": "code",
      "metadata": {
        "id": "JAm_HQxsZUrg"
      },
      "source": [
        "#가위바위보의 경우 3개의 클래스 즉, 가위: 0, 바위: 1, 보: 2 로 라벨링\n",
        "import numpy as np\n",
        "\n",
        "def load_data_test(img_path, number_of_data=312):  # 가위바위보 이미지 개수 총합에 주의\n",
        "    # 가위 : 0, 바위 : 1, 보 : 2\n",
        "    img_size=28\n",
        "    color=3\n",
        "    #이미지 데이터와 라벨(가위 : 0, 바위 : 1, 보 : 2) 데이터를 담을 행렬(matrix) 영역을 생성\n",
        "    imgs=np.zeros(number_of_data*img_size*img_size*color,dtype=np.int32).reshape(number_of_data,img_size,img_size,color)\n",
        "    labels=np.zeros(number_of_data,dtype=np.int32)\n",
        "\n",
        "    idx=0\n",
        "    for file in glob.iglob(img_path+'/scissor/*.jpg'):\n",
        "        img = np.array(Image.open(file),dtype=np.int32)\n",
        "        imgs[idx,:,:,:]=img    # 데이터 영역에 이미지 행렬을 복사\n",
        "        labels[idx]=0   # 가위 : 0\n",
        "        idx=idx+1\n",
        "\n",
        "    for file in glob.iglob(img_path+'/rock/*.jpg'):\n",
        "        img = np.array(Image.open(file),dtype=np.int32)\n",
        "        imgs[idx,:,:,:]=img    # 데이터 영역에 이미지 행렬을 복사\n",
        "        labels[idx]=1   # 바위 : 1\n",
        "        idx=idx+1  \n",
        "    \n",
        "    for file in glob.iglob(img_path+'/paper/*.jpg'):\n",
        "        img = np.array(Image.open(file),dtype=np.int32)\n",
        "        imgs[idx,:,:,:]=img    # 데이터 영역에 이미지 행렬을 복사\n",
        "        labels[idx]=2   # 보 : 2\n",
        "        idx=idx+1\n",
        "        \n",
        "    print(\"학습데이터(x_train)의 이미지 개수는\", idx,\"입니다.\")\n",
        "    return imgs, labels\n"
      ],
      "execution_count": null,
      "outputs": []
    },
    {
      "cell_type": "markdown",
      "metadata": {
        "id": "kr-dTJYqT44k"
      },
      "source": [
        "- "
      ]
    },
    {
      "cell_type": "code",
      "metadata": {
        "colab": {
          "base_uri": "https://localhost:8080/"
        },
        "id": "jmHZi9P-7pya",
        "outputId": "265bfb6d-0dd7-4f4e-e30d-ad705cb9af7e"
      },
      "source": [
        "image_dir_path = \"/content/drive/MyDrive/Data/train/\"\n",
        "(x_train, y_train)=load_data_train(image_dir_path)\n",
        "\n",
        "print(\"x_train shape: {}\".format(x_train.shape))\n",
        "print(\"y_train shape: {}\".format(y_train.shape))"
      ],
      "execution_count": null,
      "outputs": [
        {
          "output_type": "stream",
          "name": "stdout",
          "text": [
            "학습데이터(x_train)의 이미지 개수는 1200 입니다.\n",
            "x_train shape: (1200, 28, 28, 3)\n",
            "y_train shape: (1200,)\n"
          ]
        }
      ]
    },
    {
      "cell_type": "code",
      "metadata": {
        "colab": {
          "base_uri": "https://localhost:8080/"
        },
        "id": "jsXEqBXWql8z",
        "outputId": "3a471b04-0e4a-4460-a3aa-085fc84506da"
      },
      "source": [
        "image_dir_path4 =\"/content/drive/MyDrive/Data/test\"\n",
        "(x_test, y_test)=load_data_test(image_dir_path4)\n",
        "\n",
        "print(f\"x_test shape: {x_test.shape}\")\n",
        "print(f\"y_test shape: {y_test.shape}\")"
      ],
      "execution_count": null,
      "outputs": [
        {
          "output_type": "stream",
          "name": "stdout",
          "text": [
            "학습데이터(x_train)의 이미지 개수는 312 입니다.\n",
            "x_test shape: (312, 28, 28, 3)\n",
            "y_test shape: (312,)\n"
          ]
        }
      ]
    },
    {
      "cell_type": "code",
      "metadata": {
        "colab": {
          "base_uri": "https://localhost:8080/",
          "height": 282
        },
        "id": "ca3C3Bfj7zAK",
        "outputId": "39fc2aad-c888-40f9-b1c3-e7c00965b4da"
      },
      "source": [
        "#잘 적용 되었는지 출력\n",
        "import matplotlib.pyplot as plt\n",
        "plt.imshow(x_train[0])\n",
        "print('라벨: ', y_train[0])"
      ],
      "execution_count": null,
      "outputs": [
        {
          "output_type": "stream",
          "name": "stdout",
          "text": [
            "라벨:  0\n"
          ]
        },
        {
          "output_type": "display_data",
          "data": {
            "image/png": "[encoded data removed]",
            "text/plain": [
              "<Figure size 432x288 with 1 Axes>"
            ]
          },
          "metadata": {
            "needs_background": "light"
          }
        }
      ]
    },
    {
      "cell_type": "code",
      "metadata": {
        "colab": {
          "base_uri": "https://localhost:8080/",
          "height": 282
        },
        "id": "00BPo6xGc3tn",
        "outputId": "44305142-19ad-43ff-b5d8-519abf904d41"
      },
      "source": [
        "#잘 적용 되었는지 출력\n",
        "import matplotlib.pyplot as plt\n",
        "plt.imshow(x_train[900])\n",
        "print('라벨: ', y_train[900])\n"
      ],
      "execution_count": null,
      "outputs": [
        {
          "output_type": "stream",
          "name": "stdout",
          "text": [
            "라벨:  2\n"
          ]
        },
        {
          "output_type": "display_data",
          "data": {
            "image/png": "[encoded data removed]",
            "text/plain": [
              "<Figure size 432x288 with 1 Axes>"
            ]
          },
          "metadata": {
            "needs_background": "light"
          }
        }
      ]
    },
    {
      "cell_type": "code",
      "metadata": {
        "colab": {
          "base_uri": "https://localhost:8080/",
          "height": 282
        },
        "id": "UL1PNQU6gokk",
        "outputId": "a264411b-4efc-4e84-de8b-b51d12ad9a19"
      },
      "source": [
        "#잘 적용 되었는지 출력\n",
        "import matplotlib.pyplot as plt\n",
        "plt.imshow(x_train[400])\n",
        "print('라벨: ', y_train[400])"
      ],
      "execution_count": null,
      "outputs": [
        {
          "output_type": "stream",
          "name": "stdout",
          "text": [
            "라벨:  1\n"
          ]
        },
        {
          "output_type": "display_data",
          "data": {
            "image/png": "[encoded data removed]",
            "text/plain": [
              "<Figure size 432x288 with 1 Axes>"
            ]
          },
          "metadata": {
            "needs_background": "light"
          }
        }
      ]
    },
    {
      "cell_type": "code",
      "metadata": {
        "colab": {
          "base_uri": "https://localhost:8080/"
        },
        "id": "QoFeZXxL8lAd",
        "outputId": "d03a7dcd-07d5-4908-b5e4-24e84d3cab7d"
      },
      "source": [
        "print(x_train.shape)"
      ],
      "execution_count": null,
      "outputs": [
        {
          "output_type": "stream",
          "name": "stdout",
          "text": [
            "(1200, 28, 28, 3)\n"
          ]
        }
      ]
    },
    {
      "cell_type": "code",
      "metadata": {
        "colab": {
          "base_uri": "https://localhost:8080/"
        },
        "id": "plYeF-ZGTkGA",
        "outputId": "391ece7e-f177-4b06-acd5-fb9415b6b124"
      },
      "source": [
        "#이미지 제너레이터\n",
        "import numpy as np\n",
        "import tensorflow as tf\n",
        "\n",
        "\n",
        "from keras.preprocessing.image import ImageDataGenerator\n",
        "\n",
        "train_datagen = ImageDataGenerator(\n",
        "        rescale = 1./255,\n",
        "        validation_split=0.2,\n",
        "        rotation_range=40,\n",
        "        width_shift_range=0.2,\n",
        "        height_shift_range=0.2,\n",
        "        shear_range=0.2,\n",
        "        zoom_range=0.2,\n",
        "        horizontal_flip=True,\n",
        "        fill_mode='nearest')\n",
        "\n",
        "train_gen = train_datagen.flow_from_directory('/content/drive/MyDrive/Data/train',\n",
        "                                                 target_size = (28, 28),\n",
        "                                                 batch_size = 32,\n",
        "                                                 class_mode = 'categorical',subset='training')\n",
        "val_gen  = train_datagen.flow_from_directory('/content/drive/MyDrive/Data/train',\n",
        "                                                 target_size = (28 , 28),\n",
        "                                                 batch_size = 32,\n",
        "                                                 class_mode = 'categorical',subset='validation')"
      ],
      "execution_count": null,
      "outputs": [
        {
          "output_type": "stream",
          "name": "stdout",
          "text": [
            "Found 960 images belonging to 3 classes.\n",
            "Found 240 images belonging to 3 classes.\n"
          ]
        }
      ]
    },
    {
      "cell_type": "markdown",
      "metadata": {
        "id": "bsuu2lIu71k5"
      },
      "source": [
        "#네트워크 설계"
      ]
    },
    {
      "cell_type": "code",
      "metadata": {
        "colab": {
          "base_uri": "https://localhost:8080/"
        },
        "id": "Bdcs0qJcY4_K",
        "outputId": "d2e26c41-4f6e-43e4-e75b-4ba206ad0857"
      },
      "source": [
        "import tensorflow as tf\n",
        "# Initialising the CNN\n",
        "model = tf.keras.models.Sequential()\n",
        "\n",
        "# Step 1 - Convolution\n",
        "model.add(tf.keras.layers.Conv2D(filters=32, kernel_size=3, activation='relu', input_shape=[28, 28, 3]))\n",
        "# Step 2 - Pooling\n",
        "model.add(tf.keras.layers.MaxPool2D(pool_size=2, strides=2))\n",
        "# Adding convolutional layer\n",
        "model.add(tf.keras.layers.Conv2D(filters=32, kernel_size=3, activation='relu'))\n",
        "model.add(tf.keras.layers.MaxPool2D(pool_size=2, strides=2))\n",
        "model.add(tf.keras.layers.Dropout(0.3))\n",
        "# Step 3 - Flattening\n",
        "model.add(tf.keras.layers.Flatten())\n",
        "# Step 4 - Full Connection\n",
        "model.add(tf.keras.layers.Dense(units=128, activation='relu'))\n",
        "# Step 5 - Output Layer\n",
        "model.add(tf.keras.layers.Dense(units=3, activation='softmax'))\n",
        "# Compiling the CNN\n",
        "model.compile(optimizer = 'adam', \n",
        "            loss = 'categorical_crossentropy', \n",
        "            metrics = ['accuracy'])\n",
        "model.summary()"
      ],
      "execution_count": null,
      "outputs": [
        {
          "output_type": "stream",
          "name": "stdout",
          "text": [
            "Model: \"sequential_1\"\n",
            "_________________________________________________________________\n",
            "Layer (type)                 Output Shape              Param #   \n",
            "=================================================================\n",
            "conv2d_2 (Conv2D)            (None, 26, 26, 32)        896       \n",
            "_________________________________________________________________\n",
            "max_pooling2d_2 (MaxPooling2 (None, 13, 13, 32)        0         \n",
            "_________________________________________________________________\n",
            "conv2d_3 (Conv2D)            (None, 11, 11, 32)        9248      \n",
            "_________________________________________________________________\n",
            "max_pooling2d_3 (MaxPooling2 (None, 5, 5, 32)          0         \n",
            "_________________________________________________________________\n",
            "dropout_1 (Dropout)          (None, 5, 5, 32)          0         \n",
            "_________________________________________________________________\n",
            "flatten_1 (Flatten)          (None, 800)               0         \n",
            "_________________________________________________________________\n",
            "dense_2 (Dense)              (None, 128)               102528    \n",
            "_________________________________________________________________\n",
            "dense_3 (Dense)              (None, 3)                 387       \n",
            "=================================================================\n",
            "Total params: 113,059\n",
            "Trainable params: 113,059\n",
            "Non-trainable params: 0\n",
            "_________________________________________________________________\n"
          ]
        }
      ]
    },
    {
      "cell_type": "code",
      "metadata": {
        "colab": {
          "base_uri": "https://localhost:8080/"
        },
        "id": "Op2n45-KZAnq",
        "outputId": "dc7825ac-5018-4703-fec5-b9138f713d3e"
      },
      "source": [
        "result  = model.fit(x = train_gen, validation_data = val_gen, epochs = 30)   "
      ],
      "execution_count": null,
      "outputs": [
        {
          "output_type": "stream",
          "name": "stdout",
          "text": [
            "Epoch 1/30\n",
            "30/30 [==============================] - 4s 115ms/step - loss: 1.1039 - accuracy: 0.3385 - val_loss: 1.0970 - val_accuracy: 0.3500\n",
            "Epoch 2/30\n",
            "30/30 [==============================] - 4s 119ms/step - loss: 1.1001 - accuracy: 0.3406 - val_loss: 1.0938 - val_accuracy: 0.4542\n",
            "Epoch 3/30\n",
            "30/30 [==============================] - 4s 118ms/step - loss: 1.0962 - accuracy: 0.3740 - val_loss: 1.0867 - val_accuracy: 0.4292\n",
            "Epoch 4/30\n",
            "30/30 [==============================] - 3s 110ms/step - loss: 1.0916 - accuracy: 0.3823 - val_loss: 1.0718 - val_accuracy: 0.4625\n",
            "Epoch 5/30\n",
            "30/30 [==============================] - 3s 108ms/step - loss: 1.0755 - accuracy: 0.4187 - val_loss: 1.0400 - val_accuracy: 0.4250\n",
            "Epoch 6/30\n",
            "30/30 [==============================] - 3s 109ms/step - loss: 1.0733 - accuracy: 0.4198 - val_loss: 1.0440 - val_accuracy: 0.4375\n",
            "Epoch 7/30\n",
            "30/30 [==============================] - 3s 114ms/step - loss: 1.0543 - accuracy: 0.4417 - val_loss: 1.0229 - val_accuracy: 0.4875\n",
            "Epoch 8/30\n",
            "30/30 [==============================] - 3s 109ms/step - loss: 0.9904 - accuracy: 0.5031 - val_loss: 0.8981 - val_accuracy: 0.6125\n",
            "Epoch 9/30\n",
            "30/30 [==============================] - 3s 106ms/step - loss: 0.9044 - accuracy: 0.5813 - val_loss: 0.8177 - val_accuracy: 0.6208\n",
            "Epoch 10/30\n",
            "30/30 [==============================] - 3s 110ms/step - loss: 0.8832 - accuracy: 0.5823 - val_loss: 0.7156 - val_accuracy: 0.7500\n",
            "Epoch 11/30\n",
            "30/30 [==============================] - 3s 107ms/step - loss: 0.8019 - accuracy: 0.6396 - val_loss: 0.7220 - val_accuracy: 0.6500\n",
            "Epoch 12/30\n",
            "30/30 [==============================] - 3s 109ms/step - loss: 0.7767 - accuracy: 0.6500 - val_loss: 0.5774 - val_accuracy: 0.8125\n",
            "Epoch 13/30\n",
            "30/30 [==============================] - 3s 114ms/step - loss: 0.6749 - accuracy: 0.7073 - val_loss: 0.5609 - val_accuracy: 0.7708\n",
            "Epoch 14/30\n",
            "30/30 [==============================] - 3s 109ms/step - loss: 0.7502 - accuracy: 0.6687 - val_loss: 0.5042 - val_accuracy: 0.8833\n",
            "Epoch 15/30\n",
            "30/30 [==============================] - 3s 112ms/step - loss: 0.6195 - accuracy: 0.7563 - val_loss: 0.3961 - val_accuracy: 0.8917\n",
            "Epoch 16/30\n",
            "30/30 [==============================] - 3s 107ms/step - loss: 0.5593 - accuracy: 0.7833 - val_loss: 0.4080 - val_accuracy: 0.8583\n",
            "Epoch 17/30\n",
            "30/30 [==============================] - 3s 109ms/step - loss: 0.5078 - accuracy: 0.8042 - val_loss: 0.3888 - val_accuracy: 0.8958\n",
            "Epoch 18/30\n",
            "30/30 [==============================] - 3s 113ms/step - loss: 0.4916 - accuracy: 0.7854 - val_loss: 0.3432 - val_accuracy: 0.9167\n",
            "Epoch 19/30\n",
            "30/30 [==============================] - 3s 114ms/step - loss: 0.4864 - accuracy: 0.8240 - val_loss: 0.2925 - val_accuracy: 0.9167\n",
            "Epoch 20/30\n",
            "30/30 [==============================] - 3s 109ms/step - loss: 0.4588 - accuracy: 0.8177 - val_loss: 0.3062 - val_accuracy: 0.9083\n",
            "Epoch 21/30\n",
            "30/30 [==============================] - 3s 112ms/step - loss: 0.4555 - accuracy: 0.8177 - val_loss: 0.3666 - val_accuracy: 0.8833\n",
            "Epoch 22/30\n",
            "30/30 [==============================] - 3s 108ms/step - loss: 0.4615 - accuracy: 0.8302 - val_loss: 0.2921 - val_accuracy: 0.9083\n",
            "Epoch 23/30\n",
            "30/30 [==============================] - 3s 111ms/step - loss: 0.4363 - accuracy: 0.8240 - val_loss: 0.3051 - val_accuracy: 0.8875\n",
            "Epoch 24/30\n",
            "30/30 [==============================] - 4s 121ms/step - loss: 0.4531 - accuracy: 0.8281 - val_loss: 0.2836 - val_accuracy: 0.9083\n",
            "Epoch 25/30\n",
            "30/30 [==============================] - 3s 110ms/step - loss: 0.4160 - accuracy: 0.8438 - val_loss: 0.3430 - val_accuracy: 0.9083\n",
            "Epoch 26/30\n",
            "30/30 [==============================] - 3s 111ms/step - loss: 0.4590 - accuracy: 0.8271 - val_loss: 0.1950 - val_accuracy: 0.9708\n",
            "Epoch 27/30\n",
            "30/30 [==============================] - 3s 108ms/step - loss: 0.4300 - accuracy: 0.8438 - val_loss: 0.3030 - val_accuracy: 0.9208\n",
            "Epoch 28/30\n",
            "30/30 [==============================] - 3s 105ms/step - loss: 0.4148 - accuracy: 0.8448 - val_loss: 0.1798 - val_accuracy: 0.9667\n",
            "Epoch 29/30\n",
            "30/30 [==============================] - 3s 110ms/step - loss: 0.3578 - accuracy: 0.8646 - val_loss: 0.3035 - val_accuracy: 0.8833\n",
            "Epoch 30/30\n",
            "30/30 [==============================] - 3s 112ms/step - loss: 0.3525 - accuracy: 0.8656 - val_loss: 0.1626 - val_accuracy: 0.9500\n"
          ]
        }
      ]
    }
  ]
}