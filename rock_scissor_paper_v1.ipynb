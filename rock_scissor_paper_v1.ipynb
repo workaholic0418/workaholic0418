{
  "nbformat": 4,
  "nbformat_minor": 0,
  "metadata": {
    "colab": {
      "name": "rock_scissor_paper_v1.ipynb",
      "provenance": [],
      "collapsed_sections": [],
      "mount_file_id": "1V4U3pz5oxroXN3eOlbvX6CLPzuXm2Sb0",
      "authorship_tag": "ABX9TyPy+kLs7VKrQ+ea3Zg9eRUi",
      "include_colab_link": true
    },
    "kernelspec": {
      "name": "python3",
      "display_name": "Python 3"
    },
    "language_info": {
      "name": "python"
    },
    "accelerator": "TPU"
  },
  "cells": [
    {
      "cell_type": "markdown",
      "metadata": {
        "id": "view-in-github",
        "colab_type": "text"
      },
      "source": [
        "<a href=\"https://colab.research.google.com/github/Raziel-JKM/Practice/blob/main/ai/EX-1/rock_scissor_paper_v1.ipynb\" target=\"_parent\"><img src=\"https://colab.research.google.com/assets/colab-badge.svg\" alt=\"Open In Colab\"/></a>"
      ]
    },
    {
      "cell_type": "markdown",
      "metadata": {
        "id": "uDygYgWI3o1R"
      },
      "source": [
        "#가위바위보 분류기"
      ]
    },
    {
      "cell_type": "code",
      "metadata": {
        "id": "Gr2r5YRC6ptK"
      },
      "source": [
        "from PIL import Image\n",
        "import os, glob"
      ],
      "execution_count": 1,
      "outputs": []
    },
    {
      "cell_type": "markdown",
      "metadata": {
        "id": "eb1ITVbqgcJ_"
      },
      "source": [
        "#1. 이미지 사이즈 변경"
      ]
    },
    {
      "cell_type": "code",
      "metadata": {
        "colab": {
          "base_uri": "https://localhost:8080/"
        },
        "id": "LmHCBjhX7d5C",
        "outputId": "b0eeed9d-9995-493d-a785-61d937057a59"
      },
      "source": [
        "#이미지의 크기가 28x28  변경\n",
        "import os\n",
        "\n",
        "def resize_images(img_path):\n",
        "\timages=glob.glob(img_path + \"/*.jpg\")  \n",
        "    \n",
        "\tprint(len(images), \" images to be resized.\")\n",
        "\n",
        "    # 파일마다 모두 28x28 사이즈로 바꾸어 저장합니다.\n",
        "\ttarget_size=(28,28)\n",
        "\tfor img in images:\n",
        "\t\told_img=Image.open(img)\n",
        "\t\tnew_img=old_img.resize(target_size,Image.ANTIALIAS)\n",
        "\t\tnew_img.save(img, \"JPEG\")\n",
        "    \n",
        "\tprint(len(images), \" images resized.\")\n",
        "\t\n",
        "# 가위 이미지가 저장된 디렉토리 아래의 모든 jpg 파일을 읽어들여서\n",
        "image_dir_path1 = \"/content/drive/MyDrive/Data/train/scissor\"\n",
        "#image_dir_path = os.getenv(\"HOME\") + \"/aiffel/rock_scissor_paper/scissor\"\n",
        "resize_images(image_dir_path1)\n",
        "\n",
        "print(\"가위 이미지 resize 완료!\")\n",
        "\n",
        "# 바위 이미지가 저장된 디렉토리 아래의 모든 jpg 파일을 읽어들여서\n",
        "image_dir_path2 = \"/content/drive/MyDrive/Data/train/rock\"\n",
        "resize_images(image_dir_path2)\n",
        "\n",
        "print(\"바위 이미지 resize 완료!\")\n",
        "\n",
        "# 보 이미지가 저장된 디렉토리 아래의 모든 jpg 파일을 읽어들여서\n",
        "image_dir_path3 = \"/content/drive/MyDrive/Data/train/paper\"\n",
        "resize_images(image_dir_path3)\n",
        "\n",
        "print(\"보 이미지 resize 완료!\")"
      ],
      "execution_count": 2,
      "outputs": [
        {
          "output_type": "stream",
          "name": "stdout",
          "text": [
            "400  images to be resized.\n",
            "400  images resized.\n",
            "가위 이미지 resize 완료!\n",
            "400  images to be resized.\n",
            "400  images resized.\n",
            "바위 이미지 resize 완료!\n",
            "400  images to be resized.\n",
            "400  images resized.\n",
            "보 이미지 resize 완료!\n"
          ]
        }
      ]
    },
    {
      "cell_type": "markdown",
      "metadata": {
        "id": "qmcwTX4GghBz"
      },
      "source": [
        "- 데이터 셋 100개로는 부족해서 "
      ]
    },
    {
      "cell_type": "code",
      "metadata": {
        "id": "zKKtBXxCDlzm"
      },
      "source": [
        "#가위바위보의 경우 3개의 클래스 즉, 가위: 0, 바위: 1, 보: 2 로 라벨링\n",
        "import numpy as np\n",
        "\n",
        "def load_data(img_path, number_of_data=1600):  # 가위바위보 이미지 개수 총합에 주의\n",
        "    # 가위 : 0, 바위 : 1, 보 : 2\n",
        "    img_size=28\n",
        "    color=3\n",
        "    #이미지 데이터와 라벨(가위 : 0, 바위 : 1, 보 : 2) 데이터를 담을 행렬(matrix) 영역을 생성\n",
        "    imgs=np.zeros(number_of_data*img_size*img_size*color,dtype=np.int32).reshape(number_of_data,img_size,img_size,color)\n",
        "    labels=np.zeros(number_of_data,dtype=np.int32)\n",
        "\n",
        "    idx=0\n",
        "    for file in glob.iglob(img_path+'/scissor/*.jpg'):\n",
        "        img = np.array(Image.open(file),dtype=np.int32)\n",
        "        imgs[idx,:,:,:]=img    # 데이터 영역에 이미지 행렬을 복사\n",
        "        labels[idx]=0   # 가위 : 0\n",
        "        idx=idx+1\n",
        "\n",
        "    for file in glob.iglob(img_path+'/rock/*.jpg'):\n",
        "        img = np.array(Image.open(file),dtype=np.int32)\n",
        "        imgs[idx,:,:,:]=img    # 데이터 영역에 이미지 행렬을 복사\n",
        "        labels[idx]=1   # 바위 : 1\n",
        "        idx=idx+1  \n",
        "    \n",
        "    for file in glob.iglob(img_path+'/paper/*.jpg'):\n",
        "        img = np.array(Image.open(file),dtype=np.int32)\n",
        "        imgs[idx,:,:,:]=img    # 데이터 영역에 이미지 행렬을 복사\n",
        "        labels[idx]=2   # 보 : 2\n",
        "        idx=idx+1\n",
        "        \n",
        "    print(\"학습데이터(x_train)의 이미지 개수는\", idx,\"입니다.\")\n",
        "    return imgs, labels\n"
      ],
      "execution_count": 3,
      "outputs": []
    },
    {
      "cell_type": "code",
      "metadata": {
        "colab": {
          "base_uri": "https://localhost:8080/"
        },
        "id": "jmHZi9P-7pya",
        "outputId": "30996189-0a23-475c-8e06-259320c3622e"
      },
      "source": [
        "image_dir_path = \"/content/drive/MyDrive/Data/train/\"\n",
        "(x_train, y_train)=load_data(image_dir_path)\n",
        "x_train_norm = x_train/255.0   # 입력은 0~1 사이의 값으로 정규화\n",
        "\n",
        "print(\"x_train shape: {}\".format(x_train.shape))\n",
        "print(\"y_train shape: {}\".format(y_train.shape))"
      ],
      "execution_count": 4,
      "outputs": [
        {
          "output_type": "stream",
          "name": "stdout",
          "text": [
            "학습데이터(x_train)의 이미지 개수는 1200 입니다.\n",
            "x_train shape: (1600, 28, 28, 3)\n",
            "y_train shape: (1600,)\n"
          ]
        }
      ]
    },
    {
      "cell_type": "code",
      "metadata": {
        "colab": {
          "base_uri": "https://localhost:8080/",
          "height": 282
        },
        "id": "ca3C3Bfj7zAK",
        "outputId": "4f21efb3-ba5f-49a6-fb93-785d19cf67ee"
      },
      "source": [
        "#잘 적용 되었는지 출력\n",
        "import matplotlib.pyplot as plt\n",
        "plt.imshow(x_train[0])\n",
        "print('라벨: ', y_train[0])"
      ],
      "execution_count": 5,
      "outputs": [
        {
          "output_type": "stream",
          "name": "stdout",
          "text": [
            "라벨:  0\n"
          ]
        },
        {
          "output_type": "display_data",
          "data": {
            "image/png": "[encoded data removed]",
            "text/plain": [
              "<Figure size 432x288 with 1 Axes>"
            ]
          },
          "metadata": {
            "needs_background": "light"
          }
        }
      ]
    },
    {
      "cell_type": "code",
      "metadata": {
        "colab": {
          "base_uri": "https://localhost:8080/"
        },
        "id": "QoFeZXxL8lAd",
        "outputId": "30738584-d436-4953-cd3b-2a017f231785"
      },
      "source": [
        "print(x_train.shape)"
      ],
      "execution_count": 6,
      "outputs": [
        {
          "output_type": "stream",
          "name": "stdout",
          "text": [
            "(1600, 28, 28, 3)\n"
          ]
        }
      ]
    },
    {
      "cell_type": "code",
      "metadata": {
        "colab": {
          "base_uri": "https://localhost:8080/"
        },
        "id": "OXeJHvt3GgO4",
        "outputId": "f7779c0f-1c10-42ef-f4e2-e6c9c282d108"
      },
      "source": [
        "from sklearn.model_selection import train_test_split\n",
        "#train 데이터를 훈련셋 검증셋 80%, 20%로 랜덤하게 변경\n",
        "x_train, x_val, y_train, y_val = train_test_split(x_train_norm, y_train, test_size=0.2, shuffle=True, random_state=12)\n",
        "\n",
        "print(x_train.shape, x_val.shape, y_train.shape, y_val.shape)"
      ],
      "execution_count": 7,
      "outputs": [
        {
          "output_type": "stream",
          "name": "stdout",
          "text": [
            "(1280, 28, 28, 3) (320, 28, 28, 3) (1280,) (320,)\n"
          ]
        }
      ]
    },
    {
      "cell_type": "markdown",
      "metadata": {
        "id": "bsuu2lIu71k5"
      },
      "source": [
        "#네트워크 설계"
      ]
    },
    {
      "cell_type": "code",
      "metadata": {
        "colab": {
          "base_uri": "https://localhost:8080/"
        },
        "id": "plYeF-ZGTkGA",
        "outputId": "c31899a4-77e8-45ee-be61-7538ecd56c77"
      },
      "source": [
        "#이미지 제너레이터\n",
        "import numpy as np\n",
        "import tensorflow as tf\n",
        "\n",
        "\n",
        "from keras.preprocessing.image import ImageDataGenerator\n",
        "\n",
        "train_datagen = ImageDataGenerator(\n",
        "        rotation_range=40,\n",
        "        width_shift_range=0.2,\n",
        "        height_shift_range=0.2,\n",
        "        shear_range=0.2,\n",
        "        zoom_range=0.2,\n",
        "        horizontal_flip=True,\n",
        "        fill_mode='nearest')\n",
        "\n",
        "train_gen = train_datagen.flow_from_directory('/content/drive/MyDrive/Data/train',\n",
        "                                                 target_size = (28, 28),\n",
        "                                                 batch_size = 32,\n",
        "                                                 class_mode = 'categorical',subset='training')\n",
        "val_gen  = train_datagen.flow_from_directory('/content/drive/MyDrive/Data/test',\n",
        "                                                 target_size = (28 , 28),\n",
        "                                                  batch_size = 32,\n",
        "                                                 class_mode = 'categorical',subset='validation')"
      ],
      "execution_count": 25,
      "outputs": [
        {
          "output_type": "stream",
          "name": "stdout",
          "text": [
            "Found 1200 images belonging to 3 classes.\n",
            "Found 0 images belonging to 3 classes.\n"
          ]
        }
      ]
    },
    {
      "cell_type": "code",
      "metadata": {
        "colab": {
          "base_uri": "https://localhost:8080/"
        },
        "id": "Bdcs0qJcY4_K",
        "outputId": "6e6d6c1c-3526-46f7-e83f-16c00c75be03"
      },
      "source": [
        "import tensorflow as tf\n",
        "# Initialising the CNN\n",
        "model = tf.keras.models.Sequential()\n",
        "\n",
        "# Step 1 - Convolution\n",
        "model.add(tf.keras.layers.Conv2D(filters=32, kernel_size=3, activation='relu', input_shape=[28, 28, 3]))\n",
        "# Step 2 - Pooling\n",
        "model.add(tf.keras.layers.MaxPool2D(pool_size=2, strides=2))\n",
        "# Adding convolutional layer\n",
        "model.add(tf.keras.layers.Conv2D(filters=32, kernel_size=3, activation='relu'))\n",
        "model.add(tf.keras.layers.MaxPool2D(pool_size=2, strides=2))\n",
        "model.add(tf.keras.layers.Dropout(0.4))\n",
        "# Step 3 - Flattening\n",
        "model.add(tf.keras.layers.Flatten())\n",
        "# Step 4 - Full Connection\n",
        "model.add(tf.keras.layers.Dense(units=128, activation='relu'))\n",
        "# Step 5 - Output Layer\n",
        "model.add(tf.keras.layers.Dense(units=3, activation='softmax'))\n",
        "# Compiling the CNN\n",
        "model.compile(optimizer = 'adam', \n",
        "            loss = 'categorical_crossentropy', \n",
        "            metrics = ['accuracy'])\n",
        "model.summary()"
      ],
      "execution_count": 9,
      "outputs": [
        {
          "output_type": "stream",
          "name": "stdout",
          "text": [
            "Model: \"sequential\"\n",
            "_________________________________________________________________\n",
            "Layer (type)                 Output Shape              Param #   \n",
            "=================================================================\n",
            "conv2d (Conv2D)              (None, 26, 26, 32)        896       \n",
            "_________________________________________________________________\n",
            "max_pooling2d (MaxPooling2D) (None, 13, 13, 32)        0         \n",
            "_________________________________________________________________\n",
            "conv2d_1 (Conv2D)            (None, 11, 11, 32)        9248      \n",
            "_________________________________________________________________\n",
            "max_pooling2d_1 (MaxPooling2 (None, 5, 5, 32)          0         \n",
            "_________________________________________________________________\n",
            "dropout (Dropout)            (None, 5, 5, 32)          0         \n",
            "_________________________________________________________________\n",
            "flatten (Flatten)            (None, 800)               0         \n",
            "_________________________________________________________________\n",
            "dense (Dense)                (None, 128)               102528    \n",
            "_________________________________________________________________\n",
            "dense_1 (Dense)              (None, 3)                 387       \n",
            "=================================================================\n",
            "Total params: 113,059\n",
            "Trainable params: 113,059\n",
            "Non-trainable params: 0\n",
            "_________________________________________________________________\n"
          ]
        }
      ]
    },
    {
      "cell_type": "code",
      "metadata": {
        "colab": {
          "base_uri": "https://localhost:8080/"
        },
        "id": "Op2n45-KZAnq",
        "outputId": "72077a51-3474-4123-dc65-0b68aa2e1010"
      },
      "source": [
        "result  = model.fit(x = train_gen, validation_data = val_gen, epochs = 100)"
      ],
      "execution_count": 10,
      "outputs": [
        {
          "output_type": "stream",
          "name": "stdout",
          "text": [
            "Epoch 1/100\n",
            "38/38 [==============================] - 4s 86ms/step - loss: 5.8565 - accuracy: 0.3700\n",
            "Epoch 2/100\n",
            "38/38 [==============================] - 3s 89ms/step - loss: 1.0854 - accuracy: 0.4350\n",
            "Epoch 3/100\n",
            "38/38 [==============================] - 3s 87ms/step - loss: 1.0569 - accuracy: 0.4642\n",
            "Epoch 4/100\n",
            "38/38 [==============================] - 3s 87ms/step - loss: 1.0423 - accuracy: 0.4542\n",
            "Epoch 5/100\n",
            "38/38 [==============================] - 3s 86ms/step - loss: 1.0213 - accuracy: 0.4758\n",
            "Epoch 6/100\n",
            "38/38 [==============================] - 3s 88ms/step - loss: 0.9717 - accuracy: 0.5233\n",
            "Epoch 7/100\n",
            "38/38 [==============================] - 3s 89ms/step - loss: 0.9573 - accuracy: 0.5400\n",
            "Epoch 8/100\n",
            "38/38 [==============================] - 3s 88ms/step - loss: 0.9181 - accuracy: 0.5808\n",
            "Epoch 9/100\n",
            "38/38 [==============================] - 3s 89ms/step - loss: 0.9244 - accuracy: 0.5833\n",
            "Epoch 10/100\n",
            "38/38 [==============================] - 3s 90ms/step - loss: 0.9269 - accuracy: 0.5717\n",
            "Epoch 11/100\n",
            "38/38 [==============================] - 3s 87ms/step - loss: 0.9152 - accuracy: 0.5775\n",
            "Epoch 12/100\n",
            "38/38 [==============================] - 3s 89ms/step - loss: 0.9543 - accuracy: 0.5108\n",
            "Epoch 13/100\n",
            "38/38 [==============================] - 3s 91ms/step - loss: 0.9479 - accuracy: 0.5283\n",
            "Epoch 14/100\n",
            "38/38 [==============================] - 3s 87ms/step - loss: 0.9001 - accuracy: 0.5617\n",
            "Epoch 15/100\n",
            "38/38 [==============================] - 3s 83ms/step - loss: 0.9484 - accuracy: 0.5283\n",
            "Epoch 16/100\n",
            "38/38 [==============================] - 3s 81ms/step - loss: 0.8725 - accuracy: 0.5933\n",
            "Epoch 17/100\n",
            "38/38 [==============================] - 3s 81ms/step - loss: 0.8327 - accuracy: 0.6367\n",
            "Epoch 18/100\n",
            "38/38 [==============================] - 3s 83ms/step - loss: 0.8144 - accuracy: 0.6358\n",
            "Epoch 19/100\n",
            "38/38 [==============================] - 3s 85ms/step - loss: 0.8316 - accuracy: 0.6200\n",
            "Epoch 20/100\n",
            "38/38 [==============================] - 3s 82ms/step - loss: 0.8041 - accuracy: 0.6425\n",
            "Epoch 21/100\n",
            "38/38 [==============================] - 3s 84ms/step - loss: 0.8576 - accuracy: 0.6108\n",
            "Epoch 22/100\n",
            "38/38 [==============================] - 3s 81ms/step - loss: 0.8036 - accuracy: 0.6475\n",
            "Epoch 23/100\n",
            "38/38 [==============================] - 3s 81ms/step - loss: 0.7883 - accuracy: 0.6675\n",
            "Epoch 24/100\n",
            "38/38 [==============================] - 3s 81ms/step - loss: 0.7800 - accuracy: 0.6667\n",
            "Epoch 25/100\n",
            "38/38 [==============================] - 3s 82ms/step - loss: 0.7378 - accuracy: 0.6633\n",
            "Epoch 26/100\n",
            "38/38 [==============================] - 3s 82ms/step - loss: 0.7661 - accuracy: 0.6625\n",
            "Epoch 27/100\n",
            "38/38 [==============================] - 3s 83ms/step - loss: 0.7695 - accuracy: 0.6683\n",
            "Epoch 28/100\n",
            "38/38 [==============================] - 3s 81ms/step - loss: 0.8066 - accuracy: 0.6767\n",
            "Epoch 29/100\n",
            "38/38 [==============================] - 3s 84ms/step - loss: 0.7347 - accuracy: 0.6842\n",
            "Epoch 30/100\n",
            "38/38 [==============================] - 3s 85ms/step - loss: 0.7802 - accuracy: 0.6550\n",
            "Epoch 31/100\n",
            "38/38 [==============================] - 3s 82ms/step - loss: 0.8440 - accuracy: 0.6317\n",
            "Epoch 32/100\n",
            "38/38 [==============================] - 3s 83ms/step - loss: 0.7980 - accuracy: 0.6450\n",
            "Epoch 33/100\n",
            "38/38 [==============================] - 3s 82ms/step - loss: 0.7805 - accuracy: 0.6392\n",
            "Epoch 34/100\n",
            "38/38 [==============================] - 3s 81ms/step - loss: 0.7129 - accuracy: 0.7017\n",
            "Epoch 35/100\n",
            "38/38 [==============================] - 3s 84ms/step - loss: 0.6293 - accuracy: 0.7375\n",
            "Epoch 36/100\n",
            "38/38 [==============================] - 3s 85ms/step - loss: 0.6986 - accuracy: 0.6992\n",
            "Epoch 37/100\n",
            "38/38 [==============================] - 3s 83ms/step - loss: 0.7156 - accuracy: 0.6892\n",
            "Epoch 38/100\n",
            "38/38 [==============================] - 3s 87ms/step - loss: 0.6154 - accuracy: 0.7433\n",
            "Epoch 39/100\n",
            "38/38 [==============================] - 3s 84ms/step - loss: 0.6407 - accuracy: 0.7350\n",
            "Epoch 40/100\n",
            "38/38 [==============================] - 3s 81ms/step - loss: 0.6752 - accuracy: 0.7025\n",
            "Epoch 41/100\n",
            "38/38 [==============================] - 3s 82ms/step - loss: 0.5872 - accuracy: 0.7683\n",
            "Epoch 42/100\n",
            "38/38 [==============================] - 3s 84ms/step - loss: 0.5744 - accuracy: 0.7733\n",
            "Epoch 43/100\n",
            "38/38 [==============================] - 3s 86ms/step - loss: 0.6095 - accuracy: 0.7525\n",
            "Epoch 44/100\n",
            "38/38 [==============================] - 3s 86ms/step - loss: 0.5864 - accuracy: 0.7633\n",
            "Epoch 45/100\n",
            "38/38 [==============================] - 3s 81ms/step - loss: 0.5590 - accuracy: 0.7675\n",
            "Epoch 46/100\n",
            "38/38 [==============================] - 3s 84ms/step - loss: 0.5828 - accuracy: 0.7525\n",
            "Epoch 47/100\n",
            "38/38 [==============================] - 3s 83ms/step - loss: 0.5698 - accuracy: 0.7708\n",
            "Epoch 48/100\n",
            "38/38 [==============================] - 3s 83ms/step - loss: 0.5374 - accuracy: 0.7775\n",
            "Epoch 49/100\n",
            "38/38 [==============================] - 3s 86ms/step - loss: 0.5295 - accuracy: 0.7825\n",
            "Epoch 50/100\n",
            "38/38 [==============================] - 3s 84ms/step - loss: 0.5536 - accuracy: 0.7733\n",
            "Epoch 51/100\n",
            "38/38 [==============================] - 3s 86ms/step - loss: 0.5465 - accuracy: 0.7825\n",
            "Epoch 52/100\n",
            "38/38 [==============================] - 3s 84ms/step - loss: 0.5310 - accuracy: 0.7917\n",
            "Epoch 53/100\n",
            "38/38 [==============================] - 3s 82ms/step - loss: 0.4710 - accuracy: 0.8242\n",
            "Epoch 54/100\n",
            "38/38 [==============================] - 3s 82ms/step - loss: 0.5912 - accuracy: 0.7525\n",
            "Epoch 55/100\n",
            "38/38 [==============================] - 3s 82ms/step - loss: 0.5787 - accuracy: 0.7617\n",
            "Epoch 56/100\n",
            "38/38 [==============================] - 3s 82ms/step - loss: 0.5211 - accuracy: 0.8050\n",
            "Epoch 57/100\n",
            "38/38 [==============================] - 3s 82ms/step - loss: 0.4738 - accuracy: 0.8058\n",
            "Epoch 58/100\n",
            "38/38 [==============================] - 3s 80ms/step - loss: 0.4836 - accuracy: 0.8208\n",
            "Epoch 59/100\n",
            "38/38 [==============================] - 3s 81ms/step - loss: 0.4998 - accuracy: 0.7967\n",
            "Epoch 60/100\n",
            "38/38 [==============================] - 3s 83ms/step - loss: 0.4920 - accuracy: 0.8100\n",
            "Epoch 61/100\n",
            "38/38 [==============================] - 3s 81ms/step - loss: 0.4669 - accuracy: 0.8158\n",
            "Epoch 62/100\n",
            "38/38 [==============================] - 3s 86ms/step - loss: 0.4695 - accuracy: 0.8142\n",
            "Epoch 63/100\n",
            "38/38 [==============================] - 3s 82ms/step - loss: 0.6039 - accuracy: 0.7425\n",
            "Epoch 64/100\n",
            "38/38 [==============================] - 3s 80ms/step - loss: 0.5131 - accuracy: 0.8017\n",
            "Epoch 65/100\n",
            "38/38 [==============================] - 3s 83ms/step - loss: 0.4399 - accuracy: 0.8367\n",
            "Epoch 66/100\n",
            "38/38 [==============================] - 3s 85ms/step - loss: 0.4315 - accuracy: 0.8358\n",
            "Epoch 67/100\n",
            "38/38 [==============================] - 3s 82ms/step - loss: 0.5178 - accuracy: 0.7975\n",
            "Epoch 68/100\n",
            "38/38 [==============================] - 3s 81ms/step - loss: 0.4659 - accuracy: 0.8150\n",
            "Epoch 69/100\n",
            "38/38 [==============================] - 3s 85ms/step - loss: 0.4789 - accuracy: 0.8108\n",
            "Epoch 70/100\n",
            "38/38 [==============================] - 3s 84ms/step - loss: 0.4558 - accuracy: 0.8300\n",
            "Epoch 71/100\n",
            "38/38 [==============================] - 3s 82ms/step - loss: 0.3982 - accuracy: 0.8558\n",
            "Epoch 72/100\n",
            "38/38 [==============================] - 3s 80ms/step - loss: 0.4142 - accuracy: 0.8375\n",
            "Epoch 73/100\n",
            "38/38 [==============================] - 3s 81ms/step - loss: 0.4375 - accuracy: 0.8383\n",
            "Epoch 74/100\n",
            "38/38 [==============================] - 3s 81ms/step - loss: 0.4144 - accuracy: 0.8608\n",
            "Epoch 75/100\n",
            "38/38 [==============================] - 3s 83ms/step - loss: 0.4478 - accuracy: 0.8225\n",
            "Epoch 76/100\n",
            "38/38 [==============================] - 3s 86ms/step - loss: 0.3686 - accuracy: 0.8542\n",
            "Epoch 77/100\n",
            "38/38 [==============================] - 3s 86ms/step - loss: 0.3946 - accuracy: 0.8350\n",
            "Epoch 78/100\n",
            "38/38 [==============================] - 3s 86ms/step - loss: 0.4141 - accuracy: 0.8433\n",
            "Epoch 79/100\n",
            "38/38 [==============================] - 3s 89ms/step - loss: 0.4076 - accuracy: 0.8375\n",
            "Epoch 80/100\n",
            "38/38 [==============================] - 3s 89ms/step - loss: 0.3848 - accuracy: 0.8533\n",
            "Epoch 81/100\n",
            "38/38 [==============================] - 3s 89ms/step - loss: 0.3780 - accuracy: 0.8575\n",
            "Epoch 82/100\n",
            "38/38 [==============================] - 3s 89ms/step - loss: 0.4003 - accuracy: 0.8458\n",
            "Epoch 83/100\n",
            "38/38 [==============================] - 3s 86ms/step - loss: 0.3906 - accuracy: 0.8442\n",
            "Epoch 84/100\n",
            "38/38 [==============================] - 3s 87ms/step - loss: 0.4032 - accuracy: 0.8450\n",
            "Epoch 85/100\n",
            "38/38 [==============================] - 3s 91ms/step - loss: 0.3857 - accuracy: 0.8492\n",
            "Epoch 86/100\n",
            "38/38 [==============================] - 3s 85ms/step - loss: 0.4059 - accuracy: 0.8400\n",
            "Epoch 87/100\n",
            "38/38 [==============================] - 3s 88ms/step - loss: 0.3610 - accuracy: 0.8650\n",
            "Epoch 88/100\n",
            "38/38 [==============================] - 3s 85ms/step - loss: 0.3792 - accuracy: 0.8533\n",
            "Epoch 89/100\n",
            "38/38 [==============================] - 3s 86ms/step - loss: 0.4523 - accuracy: 0.8283\n",
            "Epoch 90/100\n",
            "38/38 [==============================] - 3s 89ms/step - loss: 0.4146 - accuracy: 0.8317\n",
            "Epoch 91/100\n",
            "38/38 [==============================] - 4s 93ms/step - loss: 0.3855 - accuracy: 0.8625\n",
            "Epoch 92/100\n",
            "38/38 [==============================] - 3s 85ms/step - loss: 0.3692 - accuracy: 0.8517\n",
            "Epoch 93/100\n",
            "38/38 [==============================] - 3s 91ms/step - loss: 0.3661 - accuracy: 0.8600\n",
            "Epoch 94/100\n",
            "38/38 [==============================] - 3s 84ms/step - loss: 0.3867 - accuracy: 0.8625\n",
            "Epoch 95/100\n",
            "38/38 [==============================] - 3s 86ms/step - loss: 0.4026 - accuracy: 0.8500\n",
            "Epoch 96/100\n",
            "38/38 [==============================] - 3s 90ms/step - loss: 0.4063 - accuracy: 0.8408\n",
            "Epoch 97/100\n",
            "38/38 [==============================] - 3s 90ms/step - loss: 0.3373 - accuracy: 0.8650\n",
            "Epoch 98/100\n",
            "38/38 [==============================] - 3s 88ms/step - loss: 0.3256 - accuracy: 0.8717\n",
            "Epoch 99/100\n",
            "38/38 [==============================] - 3s 85ms/step - loss: 0.3548 - accuracy: 0.8700\n",
            "Epoch 100/100\n",
            "38/38 [==============================] - 3s 86ms/step - loss: 0.3301 - accuracy: 0.8825\n"
          ]
        }
      ]
    }
  ]
}